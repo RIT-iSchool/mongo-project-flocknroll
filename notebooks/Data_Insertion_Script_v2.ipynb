{
 "cells": [
  {
   "cell_type": "code",
   "execution_count": 1,
   "id": "4900d93a",
   "metadata": {},
   "outputs": [],
   "source": [
    "#Install Requird Dependencies\n",
    "# !pip install pymongo\n",
    "# !pip install geopandas"
   ]
  },
  {
   "cell_type": "code",
   "execution_count": 1,
   "id": "08c24369",
   "metadata": {},
   "outputs": [],
   "source": [
    "import pandas as pd\n",
    "import geopandas as gpd\n",
    "import json\n",
    "\n",
    "from pymongo import MongoClient\n",
    "from tqdm import tqdm\n",
    "\n",
    "import time"
   ]
  },
  {
   "cell_type": "code",
   "execution_count": 2,
   "id": "c95df425",
   "metadata": {},
   "outputs": [],
   "source": [
    "collections_path = {\n",
    "    'sightings': '../dataset/sightings/signtings_2021_2023.csv',\n",
    "    'birds': '../dataset/birds/birds.csv',\n",
    "    'sites': '../dataset/sites/sites.csv',\n",
    "    'states': '../dataset/state_boundaries/cb_2018_us_state_500k.shp',\n",
    "    'counties': '../dataset/county_boundaries/cb_2018_us_zcta510_500k.shp'\n",
    "}\n",
    "\n",
    "columns_to_drop = {\n",
    "    'sightings': ['SUB_ID','PLUS_CODE','DAY1_AM','DAY1_PM','DAY2_AM','DAY2_PM','EFFORT_HRS_ATLEAST','SNOW_DEP_ATLEAST'],\n",
    "    'birds': ['taxonomy_version','taxonomic_sort_order'],\n",
    "    'sites': [],\n",
    "    'states': [],\n",
    "    'counties': []\n",
    "}"
   ]
  },
  {
   "cell_type": "code",
   "execution_count": 3,
   "id": "051692df",
   "metadata": {},
   "outputs": [],
   "source": [
    "# Splitting Data into Batches\n",
    "def split_list_into_batches(data, batch_size):\n",
    "    for i in range(0, len(data), batch_size):\n",
    "        yield data[i:i + batch_size]"
   ]
  },
  {
   "cell_type": "code",
   "execution_count": 4,
   "id": "d2a2ed31",
   "metadata": {},
   "outputs": [],
   "source": [
    "#Connect to MongoDB\n",
    "def connect_to_mongo(collection_name):\n",
    "    client= MongoClient('mongodb://localhost:27017/')\n",
    "    db = client['flock']\n",
    "    collection = db[collection_name]\n",
    "    \n",
    "    return client, collection"
   ]
  },
  {
   "cell_type": "code",
   "execution_count": 5,
   "id": "58d2f2c1",
   "metadata": {},
   "outputs": [],
   "source": [
    "#read csv in chunks and yield records jsons\n",
    "def read_csv_in_chunks(csv_path, chunk_size, cols_to_drop = []):\n",
    "    chunk_number = 1\n",
    "    for chunk in pd.read_csv(csv_path, chunksize=chunk_size):\n",
    "        # print('\\nConverting Dataframe (chunk : {}) to Dictionary...'.format(chunk_number))\n",
    "        chunk = chunk.drop(cols_to_drop, axis=1)\n",
    "        yield chunk.to_dict('records'), chunk.shape[0], chunk_number\n",
    "        chunk_number += 1"
   ]
  },
  {
   "cell_type": "code",
   "execution_count": 6,
   "id": "24ca4bf1",
   "metadata": {},
   "outputs": [],
   "source": [
    "#Insert data in MongoDB\n",
    "def insert_data(records, collection_name, batch_size):\n",
    "    start_time = time.time()\n",
    "\n",
    "    batches = split_list_into_batches(records, batch_size)\n",
    "    \n",
    "    client, collection = connect_to_mongo(collection_name)\n",
    "\n",
    "    #Insert Data in Batches\n",
    "    for batch in tqdm(batches):\n",
    "        collection.insert_many(batch)\n",
    "\n",
    "    end_time = time.time()\n",
    "\n",
    "    total_time = end_time - start_time\n",
    "\n",
    "    print('Time Taken to Insert Data: ' + str(total_time))\n",
    "\n",
    "    client.close()"
   ]
  },
  {
   "cell_type": "markdown",
   "id": "d54adf12",
   "metadata": {},
   "source": [
    "## Inserting Data in `sightings` Collection"
   ]
  },
  {
   "cell_type": "code",
   "execution_count": 8,
   "id": "fc8776cd",
   "metadata": {},
   "outputs": [
    {
     "name": "stdout",
     "output_type": "stream",
     "text": [
      "starting data insertion for signtings collection...\n",
      "\n",
      "Inserting Data in from csv chunk : 1 with 1000000 records into sightings Collection\n"
     ]
    },
    {
     "name": "stderr",
     "output_type": "stream",
     "text": [
      "1000it [00:16, 61.16it/s]\n"
     ]
    },
    {
     "name": "stdout",
     "output_type": "stream",
     "text": [
      "Time Taken to Insert Data: 16.36396861076355\n",
      "\n",
      "Inserting Data in from csv chunk : 2 with 1000000 records into sightings Collection\n"
     ]
    },
    {
     "name": "stderr",
     "output_type": "stream",
     "text": [
      "1000it [00:16, 61.05it/s]\n"
     ]
    },
    {
     "name": "stdout",
     "output_type": "stream",
     "text": [
      "Time Taken to Insert Data: 16.389665126800537\n",
      "\n",
      "Inserting Data in from csv chunk : 3 with 1000000 records into sightings Collection\n"
     ]
    },
    {
     "name": "stderr",
     "output_type": "stream",
     "text": [
      "1000it [00:16, 60.44it/s]\n"
     ]
    },
    {
     "name": "stdout",
     "output_type": "stream",
     "text": [
      "Time Taken to Insert Data: 16.55348539352417\n",
      "\n",
      "Inserting Data in from csv chunk : 4 with 1000000 records into sightings Collection\n"
     ]
    },
    {
     "name": "stderr",
     "output_type": "stream",
     "text": [
      "1000it [00:16, 59.73it/s]\n"
     ]
    },
    {
     "name": "stdout",
     "output_type": "stream",
     "text": [
      "Time Taken to Insert Data: 16.745910167694092\n",
      "\n",
      "Inserting Data in from csv chunk : 5 with 1000000 records into sightings Collection\n"
     ]
    },
    {
     "name": "stderr",
     "output_type": "stream",
     "text": [
      "1000it [00:16, 59.01it/s]\n"
     ]
    },
    {
     "name": "stdout",
     "output_type": "stream",
     "text": [
      "Time Taken to Insert Data: 16.952478647232056\n",
      "\n",
      "Inserting Data in from csv chunk : 6 with 1000000 records into sightings Collection\n"
     ]
    },
    {
     "name": "stderr",
     "output_type": "stream",
     "text": [
      "1000it [00:17, 58.29it/s]\n"
     ]
    },
    {
     "name": "stdout",
     "output_type": "stream",
     "text": [
      "Time Taken to Insert Data: 17.16207265853882\n",
      "\n",
      "Inserting Data in from csv chunk : 7 with 1000000 records into sightings Collection\n"
     ]
    },
    {
     "name": "stderr",
     "output_type": "stream",
     "text": [
      "1000it [00:16, 61.18it/s]\n"
     ]
    },
    {
     "name": "stdout",
     "output_type": "stream",
     "text": [
      "Time Taken to Insert Data: 16.35306453704834\n",
      "\n",
      "Inserting Data in from csv chunk : 8 with 1000000 records into sightings Collection\n"
     ]
    },
    {
     "name": "stderr",
     "output_type": "stream",
     "text": [
      "1000it [00:16, 61.90it/s]\n"
     ]
    },
    {
     "name": "stdout",
     "output_type": "stream",
     "text": [
      "Time Taken to Insert Data: 16.160818815231323\n"
     ]
    },
    {
     "name": "stderr",
     "output_type": "stream",
     "text": [
      "/tmp/ipykernel_85234/1386428507.py:4: DtypeWarning: Columns (12) have mixed types. Specify dtype option on import or set low_memory=False.\n",
      "  for chunk in pd.read_csv(csv_path, chunksize=chunk_size):\n"
     ]
    },
    {
     "name": "stdout",
     "output_type": "stream",
     "text": [
      "\n",
      "Inserting Data in from csv chunk : 9 with 394814 records into sightings Collection\n"
     ]
    },
    {
     "name": "stderr",
     "output_type": "stream",
     "text": [
      "395it [00:05, 66.24it/s]"
     ]
    },
    {
     "name": "stdout",
     "output_type": "stream",
     "text": [
      "Time Taken to Insert Data: 5.967991828918457\n",
      "Total Records inserted: 8394814\n"
     ]
    },
    {
     "name": "stderr",
     "output_type": "stream",
     "text": [
      "\n"
     ]
    }
   ],
   "source": [
    "print('starting data insertion for signtings collection...')\n",
    "collection_name = 'sightings'\n",
    "cols_to_drop  = columns_to_drop[collection_name]\n",
    "csv_path = collections_path[collection_name]\n",
    "chunk_size_csv_read = 1000000\n",
    "chunk_size_insert = 1000\n",
    "\n",
    "total_records = 0\n",
    "for chunk_records, current_chunk_size, current_chunk_number  in read_csv_in_chunks(csv_path, chunk_size_csv_read):\n",
    "    print('\\nInserting Data in from csv chunk : {} with {} records into '.format(current_chunk_number, current_chunk_size) +collection_name+' Collection')\n",
    "    insert_data(chunk_records, collection_name, chunk_size_insert)\n",
    "    total_records += current_chunk_size\n",
    "print('Total Records inserted: ' + str(total_records))"
   ]
  },
  {
   "cell_type": "markdown",
   "id": "4050ed6f",
   "metadata": {},
   "source": [
    "## Inserting Data in `birds` Collection"
   ]
  },
  {
   "cell_type": "code",
   "execution_count": 7,
   "id": "a4f3c51e",
   "metadata": {},
   "outputs": [
    {
     "name": "stdout",
     "output_type": "stream",
     "text": [
      "Reading CSV...\n",
      "Total Records: 1090\n",
      "\n",
      "Converting Dataframe to Dictionary...\n",
      "\n",
      "Inserting Data in birds Collection\n"
     ]
    },
    {
     "name": "stderr",
     "output_type": "stream",
     "text": [
      "1it [00:00, 40.79it/s]"
     ]
    },
    {
     "name": "stdout",
     "output_type": "stream",
     "text": [
      "Time Taken to Insert Data: 0.05122733116149902\n"
     ]
    },
    {
     "name": "stderr",
     "output_type": "stream",
     "text": [
      "\n"
     ]
    }
   ],
   "source": [
    "print('Reading CSV...')\n",
    "collection_name = 'birds'\n",
    "df = pd.read_csv(collections_path[collection_name])\n",
    "\n",
    "print('Total Records: ' + str(df.shape[0]))\n",
    "df = df.drop(columns_to_drop[collection_name], axis=1)\n",
    "\n",
    "print('\\nConverting Dataframe to Dictionary...')\n",
    "records = df.to_dict('records')\n",
    "\n",
    "print('\\nInserting Data in ' + collection_name + ' Collection')\n",
    "insert_data(records, collection_name, 10000)"
   ]
  },
  {
   "cell_type": "markdown",
   "id": "e40faf6f",
   "metadata": {},
   "source": [
    "## Inserting Data in `sites` Collection"
   ]
  },
  {
   "cell_type": "code",
   "execution_count": 8,
   "id": "b5aa52ce",
   "metadata": {},
   "outputs": [
    {
     "name": "stdout",
     "output_type": "stream",
     "text": [
      "Reading CSV...\n"
     ]
    },
    {
     "name": "stderr",
     "output_type": "stream",
     "text": [
      "/tmp/ipykernel_85789/1118137011.py:3: DtypeWarning: Columns (9,10,11,12,13,14,15,16,17,18,19,20,21,22) have mixed types. Specify dtype option on import or set low_memory=False.\n",
      "  df = pd.read_csv(collections_path[collection_name])\n"
     ]
    },
    {
     "name": "stdout",
     "output_type": "stream",
     "text": [
      "Total Records: 284356\n"
     ]
    },
    {
     "name": "stderr",
     "output_type": "stream",
     "text": [
      "284356it [01:00, 4727.98it/s]\n"
     ]
    },
    {
     "name": "stdout",
     "output_type": "stream",
     "text": [
      "Time Taken to Create Description: 60.20328450202942\n",
      "\n",
      "Converting Dataframe to Dictionary...\n",
      "\n",
      "Inserting Data in sites Collection\n"
     ]
    },
    {
     "name": "stderr",
     "output_type": "stream",
     "text": [
      "29it [00:03,  8.29it/s]"
     ]
    },
    {
     "name": "stdout",
     "output_type": "stream",
     "text": [
      "Time Taken to Insert Data: 3.505342960357666\n"
     ]
    },
    {
     "name": "stderr",
     "output_type": "stream",
     "text": [
      "\n"
     ]
    }
   ],
   "source": [
    "print('Reading CSV...')\n",
    "collection_name = 'sites'\n",
    "df = pd.read_csv(collections_path[collection_name])\n",
    "\n",
    "print('Total Records: ' + str(df.shape[0]))\n",
    "df = df.drop(columns_to_drop[collection_name], axis=1)\n",
    "\n",
    "start_time = time.time()\n",
    "column_mapping = {\n",
    "    'yard_type_pavement': 'pavement',\n",
    "    'yard_type_garden': 'garden',\n",
    "    'yard_type_landsca': 'landscape',\n",
    "    'yard_type_woods': 'woods',\n",
    "    'yard_type_desert': 'desert',\n",
    "    'hab_dcid_woods': 'DCID woods',\n",
    "    'hab_evgr_woods': 'evergreen woods',\n",
    "    'hab_mixed_woods': 'mixed woods',\n",
    "    'hab_orchard': 'orchard',\n",
    "    'hab_park': 'park',\n",
    "    'hab_water_fresh': 'freshwater',\n",
    "    'hab_water_salt': 'saltwater',\n",
    "    'hab_residential': 'residential',\n",
    "    'hab_industrial': 'industrial',\n",
    "    'hab_agricultural': 'agricultural',\n",
    "    'hab_desert_scrub': 'desert scrub',\n",
    "    'hab_young_woods': 'young woods',\n",
    "    'hab_swamp': 'swamp',\n",
    "    'hab_marsh': 'marsh',\n",
    "    'squirrels': 'squirrels',\n",
    "    'cats': 'cats',\n",
    "    'dogs': 'dogs',\n",
    "    'humans': 'humans',\n",
    "    'fed_yr_round': 'year-round',\n",
    "    'fed_in_jan': 'January',\n",
    "    'fed_in_feb': 'February',\n",
    "    'fed_in_mar': 'March',\n",
    "    'fed_in_apr': 'April',\n",
    "    'fed_in_may': 'May',\n",
    "    'fed_in_jun': 'June',\n",
    "    'fed_in_jul': 'July',\n",
    "    'fed_in_aug': 'August',\n",
    "    'fed_in_sep': 'September',\n",
    "    'fed_in_oct': 'October',\n",
    "    'fed_in_nov': 'November',\n",
    "    'fed_in_dec': 'December',\n",
    "    'supp_food': 'supplementary food'\n",
    "}\n",
    "\n",
    "descriptions = []\n",
    "\n",
    "for index, row in tqdm(df.iterrows()):\n",
    "    yard_description = []\n",
    "    habitat_description = []\n",
    "    feeding_description = []\n",
    "    presence_description = []\n",
    "    description = ''\n",
    "    for column in df.columns:\n",
    "        if row[column] == 1.0:\n",
    "            if column in column_mapping:\n",
    "                if column.startswith('yard_type'):\n",
    "                    yard_description.append(column_mapping[column])\n",
    "                elif column.startswith('hab_'):\n",
    "                    habitat_description.append(column_mapping[column])\n",
    "                elif column.startswith('fed_'):\n",
    "                    feeding_description.append(column_mapping[column])\n",
    "                elif column in ['cats', 'dogs', 'squirrels', 'humans', 'supp_food']:\n",
    "                    presence_description.append(column_mapping[column])\n",
    "                    \n",
    "    if len(yard_description)>0:\n",
    "        description += 'Yard type includes {}.'.format(', '.join(yard_description))\n",
    "    if len(habitat_description)>0:\n",
    "        description += ' Habitat type includes {}.'.format(', '.join(habitat_description))\n",
    "    if len(feeding_description)>0:\n",
    "        description += ' Feeding done in {}.'.format(', '.join(feeding_description))\n",
    "    if len(presence_description)>0:\n",
    "        description += ' Presence of {}.'.format(', '.join(presence_description))\n",
    "    \n",
    "    descriptions.append(description)\n",
    "\n",
    "df['description'] = descriptions\n",
    "\n",
    "columns_to_add = ['loc_id', 'latitude', 'longitude', 'proj_period_id', 'housing_density', 'population_atleast', 'count_area_size_sq_m_atleast']\n",
    "df = df[columns_to_add + ['description']]\n",
    "\n",
    "end_time = time.time()\n",
    "total_time = end_time - start_time\n",
    "\n",
    "print('Time Taken to Create Description: ' + str(total_time))\n",
    "\n",
    "print('\\nConverting Dataframe to Dictionary...')\n",
    "records = df.to_dict('records')\n",
    "\n",
    "print('\\nInserting Data in ' + collection_name + ' Collection')\n",
    "insert_data(records, collection_name, 10000)"
   ]
  },
  {
   "cell_type": "code",
   "execution_count": 9,
   "id": "73f9211b",
   "metadata": {},
   "outputs": [
    {
     "data": {
      "text/plain": [
       "'Yard type includes landscape. Feeding done in January, February, March, April, November, December. Presence of cats.'"
      ]
     },
     "execution_count": 9,
     "metadata": {},
     "output_type": "execute_result"
    }
   ],
   "source": [
    "df.loc[0]['description']"
   ]
  },
  {
   "cell_type": "markdown",
   "id": "9b290e71",
   "metadata": {},
   "source": [
    "## Inserting Data in `states` Collection"
   ]
  },
  {
   "cell_type": "code",
   "execution_count": 10,
   "id": "13249abb",
   "metadata": {},
   "outputs": [
    {
     "name": "stdout",
     "output_type": "stream",
     "text": [
      "Reading SHP...\n",
      "Total Records: 56\n"
     ]
    },
    {
     "name": "stderr",
     "output_type": "stream",
     "text": [
      "/tmp/ipykernel_85789/2602854897.py:7: UserWarning: Geometry column does not contain geometry.\n",
      "  gdf['geometry'] = gdf['geometry'].apply(lambda x: x.__geo_interface__)\n"
     ]
    },
    {
     "name": "stdout",
     "output_type": "stream",
     "text": [
      "\n",
      "Converting Dataframe to Dictionary...\n",
      "\n",
      "Inserting Data in states Collection\n"
     ]
    },
    {
     "name": "stderr",
     "output_type": "stream",
     "text": [
      "1it [00:00,  8.17it/s]"
     ]
    },
    {
     "name": "stdout",
     "output_type": "stream",
     "text": [
      "Time Taken to Insert Data: 0.12894940376281738\n"
     ]
    },
    {
     "name": "stderr",
     "output_type": "stream",
     "text": [
      "\n"
     ]
    }
   ],
   "source": [
    "print('Reading SHP...')\n",
    "collection_name = 'states'\n",
    "gdf = gpd.read_file(collections_path[collection_name])\n",
    "\n",
    "print('Total Records: ' + str(gdf.shape[0]))\n",
    "gdf = gdf.drop(columns_to_drop[collection_name], axis=1)\n",
    "gdf['geometry'] = gdf['geometry'].apply(lambda x: x.__geo_interface__)\n",
    "\n",
    "print('\\nConverting Dataframe to Dictionary...')\n",
    "records = gdf.to_dict('records')\n",
    "\n",
    "print('\\nInserting Data in ' + collection_name + ' Collection')\n",
    "insert_data(records, collection_name, 10000)"
   ]
  },
  {
   "cell_type": "markdown",
   "id": "bb8a6a9d",
   "metadata": {},
   "source": [
    "## Inserting Data in `counties` Collection"
   ]
  },
  {
   "cell_type": "code",
   "execution_count": 11,
   "id": "ea793804",
   "metadata": {},
   "outputs": [
    {
     "name": "stdout",
     "output_type": "stream",
     "text": [
      "Reading SHP...\n",
      "Total Records: 33144\n"
     ]
    },
    {
     "name": "stderr",
     "output_type": "stream",
     "text": [
      "/tmp/ipykernel_85789/1373573107.py:7: UserWarning: Geometry column does not contain geometry.\n",
      "  gdf['geometry'] = gdf['geometry'].apply(lambda x: x.__geo_interface__)\n"
     ]
    },
    {
     "name": "stdout",
     "output_type": "stream",
     "text": [
      "\n",
      "Converting Dataframe to Dictionary...\n",
      "\n",
      "Inserting Data in counties Collection\n"
     ]
    },
    {
     "name": "stderr",
     "output_type": "stream",
     "text": [
      "4it [00:02,  1.54it/s]"
     ]
    },
    {
     "name": "stdout",
     "output_type": "stream",
     "text": [
      "Time Taken to Insert Data: 2.5961813926696777\n"
     ]
    },
    {
     "name": "stderr",
     "output_type": "stream",
     "text": [
      "\n"
     ]
    }
   ],
   "source": [
    "print('Reading SHP...')\n",
    "collection_name = 'counties'\n",
    "gdf = gpd.read_file(collections_path[collection_name])\n",
    "\n",
    "print('Total Records: ' + str(gdf.shape[0]))\n",
    "gdf = gdf.drop(columns_to_drop[collection_name], axis=1)\n",
    "gdf['geometry'] = gdf['geometry'].apply(lambda x: x.__geo_interface__)\n",
    "\n",
    "print('\\nConverting Dataframe to Dictionary...')\n",
    "records = gdf.to_dict('records')\n",
    "\n",
    "print('\\nInserting Data in ' + collection_name + ' Collection')\n",
    "insert_data(records, collection_name, 10000)"
   ]
  },
  {
   "cell_type": "code",
   "execution_count": null,
   "id": "a79e3ffd",
   "metadata": {},
   "outputs": [],
   "source": []
  }
 ],
 "metadata": {
  "kernelspec": {
   "display_name": "Python 3 (ipykernel)",
   "language": "python",
   "name": "python3"
  },
  "language_info": {
   "codemirror_mode": {
    "name": "ipython",
    "version": 3
   },
   "file_extension": ".py",
   "mimetype": "text/x-python",
   "name": "python",
   "nbconvert_exporter": "python",
   "pygments_lexer": "ipython3",
   "version": "3.10.13"
  }
 },
 "nbformat": 4,
 "nbformat_minor": 5
}
